{
  "nbformat": 4,
  "nbformat_minor": 0,
  "metadata": {
    "colab": {
      "name": "MoviesRec.ipynb",
      "provenance": [],
      "collapsed_sections": [],
      "toc_visible": true,
      "authorship_tag": "ABX9TyPbaR2lSLDpVTqSmCbWhbki",
      "include_colab_link": true
    },
    "kernelspec": {
      "name": "python3",
      "display_name": "Python 3"
    },
    "accelerator": "GPU"
  },
  "cells": [
    {
      "cell_type": "markdown",
      "metadata": {
        "id": "view-in-github",
        "colab_type": "text"
      },
      "source": [
        "<a href=\"https://colab.research.google.com/github/hamzajg/movies-rec-colab/blob/master/MoviesRec.ipynb\" target=\"_parent\"><img src=\"https://colab.research.google.com/assets/colab-badge.svg\" alt=\"Open In Colab\"/></a>"
      ]
    },
    {
      "cell_type": "code",
      "metadata": {
        "id": "8CRxPxJooh3j",
        "colab_type": "code",
        "colab": {}
      },
      "source": [
        "%load_ext autoreload\n",
        "%autoreload 2"
      ],
      "execution_count": 0,
      "outputs": []
    },
    {
      "cell_type": "code",
      "metadata": {
        "id": "-Fq32qr5bBdz",
        "colab_type": "code",
        "colab": {
          "base_uri": "https://localhost:8080/",
          "height": 275
        },
        "outputId": "a76607a8-8a5c-429a-eb94-2d2bea59146f"
      },
      "source": [
        "!pip install scikit-surprise"
      ],
      "execution_count": 3,
      "outputs": [
        {
          "output_type": "stream",
          "text": [
            "Collecting scikit-surprise\n",
            "\u001b[?25l  Downloading https://files.pythonhosted.org/packages/f5/da/b5700d96495fb4f092be497f02492768a3d96a3f4fa2ae7dea46d4081cfa/scikit-surprise-1.1.0.tar.gz (6.4MB)\n",
            "\u001b[K     |████████████████████████████████| 6.5MB 3.4MB/s \n",
            "\u001b[?25hRequirement already satisfied: joblib>=0.11 in /usr/local/lib/python3.6/dist-packages (from scikit-surprise) (0.14.1)\n",
            "Requirement already satisfied: numpy>=1.11.2 in /usr/local/lib/python3.6/dist-packages (from scikit-surprise) (1.17.5)\n",
            "Requirement already satisfied: scipy>=1.0.0 in /usr/local/lib/python3.6/dist-packages (from scikit-surprise) (1.4.1)\n",
            "Requirement already satisfied: six>=1.10.0 in /usr/local/lib/python3.6/dist-packages (from scikit-surprise) (1.12.0)\n",
            "Building wheels for collected packages: scikit-surprise\n",
            "  Building wheel for scikit-surprise (setup.py) ... \u001b[?25l\u001b[?25hdone\n",
            "  Created wheel for scikit-surprise: filename=scikit_surprise-1.1.0-cp36-cp36m-linux_x86_64.whl size=1678227 sha256=4b96d090104b3462bf1e6d1dbd9fc5638e591b634f61e3cf59f2a504294e3ce4\n",
            "  Stored in directory: /root/.cache/pip/wheels/cc/fa/8c/16c93fccce688ae1bde7d979ff102f7bee980d9cfeb8641bcf\n",
            "Successfully built scikit-surprise\n",
            "Installing collected packages: scikit-surprise\n",
            "Successfully installed scikit-surprise-1.1.0\n"
          ],
          "name": "stdout"
        }
      ]
    },
    {
      "cell_type": "code",
      "metadata": {
        "id": "UphNydjctNt4",
        "colab_type": "code",
        "colab": {
          "base_uri": "https://localhost:8080/",
          "height": 119
        },
        "outputId": "4eef2021-ad78-4297-9535-a6293de2cdcf"
      },
      "source": [
        "!git clone https://github.com/hamzajg/movies-rec-colab.git"
      ],
      "execution_count": 4,
      "outputs": [
        {
          "output_type": "stream",
          "text": [
            "Cloning into 'movies-rec-colab'...\n",
            "remote: Enumerating objects: 65, done.\u001b[K\n",
            "remote: Counting objects:   1% (1/65)\u001b[K\rremote: Counting objects:   3% (2/65)\u001b[K\rremote: Counting objects:   4% (3/65)\u001b[K\rremote: Counting objects:   6% (4/65)\u001b[K\rremote: Counting objects:   7% (5/65)\u001b[K\rremote: Counting objects:   9% (6/65)\u001b[K\rremote: Counting objects:  10% (7/65)\u001b[K\rremote: Counting objects:  12% (8/65)\u001b[K\rremote: Counting objects:  13% (9/65)\u001b[K\rremote: Counting objects:  15% (10/65)\u001b[K\rremote: Counting objects:  16% (11/65)\u001b[K\rremote: Counting objects:  18% (12/65)\u001b[K\rremote: Counting objects:  20% (13/65)\u001b[K\rremote: Counting objects:  21% (14/65)\u001b[K\rremote: Counting objects:  23% (15/65)\u001b[K\rremote: Counting objects:  24% (16/65)\u001b[K\rremote: Counting objects:  26% (17/65)\u001b[K\rremote: Counting objects:  27% (18/65)\u001b[K\rremote: Counting objects:  29% (19/65)\u001b[K\rremote: Counting objects:  30% (20/65)\u001b[K\rremote: Counting objects:  32% (21/65)\u001b[K\rremote: Counting objects:  33% (22/65)\u001b[K\rremote: Counting objects:  35% (23/65)\u001b[K\rremote: Counting objects:  36% (24/65)\u001b[K\rremote: Counting objects:  38% (25/65)\u001b[K\rremote: Counting objects:  40% (26/65)\u001b[K\rremote: Counting objects:  41% (27/65)\u001b[K\rremote: Counting objects:  43% (28/65)\u001b[K\rremote: Counting objects:  44% (29/65)\u001b[K\rremote: Counting objects:  46% (30/65)\u001b[K\rremote: Counting objects:  47% (31/65)\u001b[K\rremote: Counting objects:  49% (32/65)\u001b[K\rremote: Counting objects:  50% (33/65)\u001b[K\rremote: Counting objects:  52% (34/65)\u001b[K\rremote: Counting objects:  53% (35/65)\u001b[K\rremote: Counting objects:  55% (36/65)\u001b[K\rremote: Counting objects:  56% (37/65)\u001b[K\rremote: Counting objects:  58% (38/65)\u001b[K\rremote: Counting objects:  60% (39/65)\u001b[K\rremote: Counting objects:  61% (40/65)\u001b[K\rremote: Counting objects:  63% (41/65)\u001b[K\rremote: Counting objects:  64% (42/65)\u001b[K\rremote: Counting objects:  66% (43/65)\u001b[K\rremote: Counting objects:  67% (44/65)\u001b[K\rremote: Counting objects:  69% (45/65)\u001b[K\rremote: Counting objects:  70% (46/65)\u001b[K\rremote: Counting objects:  72% (47/65)\u001b[K\rremote: Counting objects:  73% (48/65)\u001b[K\rremote: Counting objects:  75% (49/65)\u001b[K\rremote: Counting objects:  76% (50/65)\u001b[K\rremote: Counting objects:  78% (51/65)\u001b[K\rremote: Counting objects:  80% (52/65)\u001b[K\rremote: Counting objects:  81% (53/65)\u001b[K\rremote: Counting objects:  83% (54/65)\u001b[K\rremote: Counting objects:  84% (55/65)\u001b[K\rremote: Counting objects:  86% (56/65)\u001b[K\rremote: Counting objects:  87% (57/65)\u001b[K\rremote: Counting objects:  89% (58/65)\u001b[K\rremote: Counting objects:  90% (59/65)\u001b[K\rremote: Counting objects:  92% (60/65)\u001b[K\rremote: Counting objects:  93% (61/65)\u001b[K\rremote: Counting objects:  95% (62/65)\u001b[K\rremote: Counting objects:  96% (63/65)\u001b[K\rremote: Counting objects:  98% (64/65)\u001b[K\rremote: Counting objects: 100% (65/65)\u001b[K\rremote: Counting objects: 100% (65/65), done.\u001b[K\n",
            "remote: Compressing objects:   1% (1/55)\u001b[K\rremote: Compressing objects:   3% (2/55)\u001b[K\rremote: Compressing objects:   5% (3/55)\u001b[K\rremote: Compressing objects:   7% (4/55)\u001b[K\rremote: Compressing objects:   9% (5/55)\u001b[K\rremote: Compressing objects:  10% (6/55)\u001b[K\rremote: Compressing objects:  12% (7/55)\u001b[K\rremote: Compressing objects:  14% (8/55)\u001b[K\rremote: Compressing objects:  16% (9/55)\u001b[K\rremote: Compressing objects:  18% (10/55)\u001b[K\rremote: Compressing objects:  20% (11/55)\u001b[K\rremote: Compressing objects:  21% (12/55)\u001b[K\rremote: Compressing objects:  23% (13/55)\u001b[K\rremote: Compressing objects:  25% (14/55)\u001b[K\rremote: Compressing objects:  27% (15/55)\u001b[K\rremote: Compressing objects:  29% (16/55)\u001b[K\rremote: Compressing objects:  30% (17/55)\u001b[K\rremote: Compressing objects:  32% (18/55)\u001b[K\rremote: Compressing objects:  34% (19/55)\u001b[K\rremote: Compressing objects:  36% (20/55)\u001b[K\rremote: Compressing objects:  38% (21/55)\u001b[K\rremote: Compressing objects:  40% (22/55)\u001b[K\rremote: Compressing objects:  41% (23/55)\u001b[K\rremote: Compressing objects:  43% (24/55)\u001b[K\rremote: Compressing objects:  45% (25/55)\u001b[K\rremote: Compressing objects:  47% (26/55)\u001b[K\rremote: Compressing objects:  49% (27/55)\u001b[K\rremote: Compressing objects:  50% (28/55)\u001b[K\rremote: Compressing objects:  52% (29/55)\u001b[K\rremote: Compressing objects:  54% (30/55)\u001b[K\rremote: Compressing objects:  56% (31/55)\u001b[K\rremote: Compressing objects:  58% (32/55)\u001b[K\rremote: Compressing objects:  60% (33/55)\u001b[K\rremote: Compressing objects:  61% (34/55)\u001b[K\rremote: Compressing objects:  63% (35/55)\u001b[K\rremote: Compressing objects:  65% (36/55)\u001b[K\rremote: Compressing objects:  67% (37/55)\u001b[K\rremote: Compressing objects:  69% (38/55)\u001b[K\rremote: Compressing objects:  70% (39/55)\u001b[K\rremote: Compressing objects:  72% (40/55)\u001b[K\rremote: Compressing objects:  74% (41/55)\u001b[K\rremote: Compressing objects:  76% (42/55)\u001b[K\rremote: Compressing objects:  78% (43/55)\u001b[K\rremote: Compressing objects:  80% (44/55)\u001b[K\rremote: Compressing objects:  81% (45/55)\u001b[K\rremote: Compressing objects:  83% (46/55)\u001b[K\rremote: Compressing objects:  85% (47/55)\u001b[K\rremote: Compressing objects:  87% (48/55)\u001b[K\rremote: Compressing objects:  89% (49/55)\u001b[K\rremote: Compressing objects:  90% (50/55)\u001b[K\rremote: Compressing objects:  92% (51/55)\u001b[K\rremote: Compressing objects:  94% (52/55)\u001b[K\rremote: Compressing objects:  96% (53/55)\u001b[K\rremote: Compressing objects:  98% (54/55)\u001b[K\rremote: Compressing objects: 100% (55/55)\u001b[K\rremote: Compressing objects: 100% (55/55), done.\u001b[K\n",
            "remote: Total 65 (delta 26), reused 29 (delta 7), pack-reused 0\u001b[K\n",
            "Unpacking objects: 100% (65/65), done.\n"
          ],
          "name": "stdout"
        }
      ]
    },
    {
      "cell_type": "code",
      "metadata": {
        "id": "3rEngU55njB-",
        "colab_type": "code",
        "outputId": "452d3127-3363-4783-ea72-77b3db49c668",
        "colab": {
          "base_uri": "https://localhost:8080/",
          "height": 34
        }
      },
      "source": [
        "%cd movies-rec-colab/"
      ],
      "execution_count": 0,
      "outputs": [
        {
          "output_type": "stream",
          "text": [
            "/content/movies-rec-colab\n"
          ],
          "name": "stdout"
        }
      ]
    },
    {
      "cell_type": "code",
      "metadata": {
        "id": "3KXEZScvl02K",
        "colab_type": "code",
        "outputId": "a2d4a3e6-99ff-48cf-e7ba-0a8d2ec38876",
        "colab": {
          "base_uri": "https://localhost:8080/",
          "height": 255
        }
      },
      "source": [
        "!git pull"
      ],
      "execution_count": 0,
      "outputs": [
        {
          "output_type": "stream",
          "text": [
            "remote: Enumerating objects: 12, done.\u001b[K\n",
            "remote: Counting objects:   8% (1/12)\u001b[K\rremote: Counting objects:  16% (2/12)\u001b[K\rremote: Counting objects:  25% (3/12)\u001b[K\rremote: Counting objects:  33% (4/12)\u001b[K\rremote: Counting objects:  41% (5/12)\u001b[K\rremote: Counting objects:  50% (6/12)\u001b[K\rremote: Counting objects:  58% (7/12)\u001b[K\rremote: Counting objects:  66% (8/12)\u001b[K\rremote: Counting objects:  75% (9/12)\u001b[K\rremote: Counting objects:  83% (10/12)\u001b[K\rremote: Counting objects:  91% (11/12)\u001b[K\rremote: Counting objects: 100% (12/12)\u001b[K\rremote: Counting objects: 100% (12/12), done.\u001b[K\n",
            "remote: Compressing objects:  11% (1/9)\u001b[K\rremote: Compressing objects:  22% (2/9)\u001b[K\rremote: Compressing objects:  33% (3/9)\u001b[K\rremote: Compressing objects:  44% (4/9)\u001b[K\rremote: Compressing objects:  55% (5/9)\u001b[K\rremote: Compressing objects:  66% (6/9)\u001b[K\rremote: Compressing objects:  77% (7/9)\u001b[K\rremote: Compressing objects:  88% (8/9)\u001b[K\rremote: Compressing objects: 100% (9/9)\u001b[K\rremote: Compressing objects: 100% (9/9), done.\u001b[K\n",
            "remote: Total 11 (delta 5), reused 5 (delta 2), pack-reused 0\n",
            "Unpacking objects:   9% (1/11)   \rUnpacking objects:  18% (2/11)   \rUnpacking objects:  27% (3/11)   \rUnpacking objects:  36% (4/11)   \rUnpacking objects:  45% (5/11)   \rUnpacking objects:  54% (6/11)   \rUnpacking objects:  63% (7/11)   \rUnpacking objects:  72% (8/11)   \rUnpacking objects:  81% (9/11)   \rUnpacking objects:  90% (10/11)   \rUnpacking objects: 100% (11/11)   \rUnpacking objects: 100% (11/11), done.\n",
            "From https://github.com/hamzajg/movies-rec-colab\n",
            "   4440613..0dc3bcb  master     -> origin/master\n",
            "Updating 4440613..0dc3bcb\n",
            "Fast-forward\n",
            " MoviesRec.ipynb       | 226 \u001b[32m++++++++++++++++++++++++++++++++++++++++++++++++++\u001b[m\n",
            " RecommenderMetrics.py | 154 \u001b[32m++++++++++++++++++++++++++++++++++\u001b[m\n",
            " 2 files changed, 380 insertions(+)\n",
            " create mode 100644 MoviesRec.ipynb\n",
            " create mode 100644 RecommenderMetrics.py\n"
          ],
          "name": "stdout"
        }
      ]
    },
    {
      "cell_type": "code",
      "metadata": {
        "id": "2THNTl_cnGE3",
        "colab_type": "code",
        "outputId": "9a18298f-5a8e-45de-ad22-17a0821715fc",
        "colab": {
          "base_uri": "https://localhost:8080/",
          "height": 34
        }
      },
      "source": [
        "%cd /content/"
      ],
      "execution_count": 11,
      "outputs": [
        {
          "output_type": "stream",
          "text": [
            "/content\n"
          ],
          "name": "stdout"
        }
      ]
    },
    {
      "cell_type": "code",
      "metadata": {
        "id": "qXNJqZpLkThb",
        "colab_type": "code",
        "outputId": "940cc802-f703-4850-c8a5-fbd5dc91732a",
        "colab": {
          "base_uri": "https://localhost:8080/",
          "height": 34
        }
      },
      "source": [
        "import sys\n",
        "sys.path.insert(0, 'movies-rec-colab')\n",
        "\n",
        "from MovieLens import MovieLens\n",
        "\n",
        "ml = MovieLens()\n",
        "print('Loading Movies Rating..')\n",
        "data = ml.loadMovieLensLatestSmall()"
      ],
      "execution_count": 6,
      "outputs": [
        {
          "output_type": "stream",
          "text": [
            "Loading Movies Rating..\n"
          ],
          "name": "stdout"
        }
      ]
    },
    {
      "cell_type": "code",
      "metadata": {
        "id": "t70Azr84sBTC",
        "colab_type": "code",
        "outputId": "192646c0-d793-4f21-acf9-5135c0e32fcb",
        "colab": {
          "base_uri": "https://localhost:8080/",
          "height": 34
        }
      },
      "source": [
        "print('Computing movie popularity ranks so we can measure novelty later..')\n",
        "rankings = ml.getPopularityRanks()"
      ],
      "execution_count": 7,
      "outputs": [
        {
          "output_type": "stream",
          "text": [
            "Computing movie popularity ranks so we can measure novelty later..\n"
          ],
          "name": "stdout"
        }
      ]
    },
    {
      "cell_type": "code",
      "metadata": {
        "id": "rQbaC_YqsgbK",
        "colab_type": "code",
        "outputId": "2fcd04b6-52b8-4809-94a0-f300a22d6315",
        "colab": {
          "base_uri": "https://localhost:8080/",
          "height": 102
        }
      },
      "source": [
        "from surprise import KNNBaseline\n",
        "print('Computing item similarities so we can measure diversity later ...')\n",
        "fullTrainSet = data.build_full_trainset()\n",
        "sim_options = {'name': 'pearson_baseline', 'user_based': False}\n",
        "simsAlgo = KNNBaseline(sim_options=sim_options)\n",
        "simsAlgo.fit(fullTrainSet)"
      ],
      "execution_count": 8,
      "outputs": [
        {
          "output_type": "stream",
          "text": [
            "Computing item similarities so we can measure diversity later ...\n",
            "Estimating biases using als...\n",
            "Computing the pearson_baseline similarity matrix...\n",
            "Done computing similarity matrix.\n"
          ],
          "name": "stdout"
        },
        {
          "output_type": "execute_result",
          "data": {
            "text/plain": [
              "<surprise.prediction_algorithms.knns.KNNBaseline at 0x7f3685f892b0>"
            ]
          },
          "metadata": {
            "tags": []
          },
          "execution_count": 8
        }
      ]
    },
    {
      "cell_type": "code",
      "metadata": {
        "id": "MwUwOQjZul77",
        "colab_type": "code",
        "outputId": "7daf41ed-896a-4027-ba30-87f458ffb7e6",
        "colab": {
          "base_uri": "https://localhost:8080/",
          "height": 51
        }
      },
      "source": [
        "from surprise.model_selection import train_test_split\n",
        "from surprise import SVD\n",
        "print('Building recommendation models..')\n",
        "trainSet, testSet = train_test_split(data, test_size=.25, random_state=1)\n",
        "algo = SVD(random_state=10)\n",
        "algo.fit(trainSet)"
      ],
      "execution_count": 9,
      "outputs": [
        {
          "output_type": "stream",
          "text": [
            "Building recommendation models..\n"
          ],
          "name": "stdout"
        },
        {
          "output_type": "execute_result",
          "data": {
            "text/plain": [
              "<surprise.prediction_algorithms.matrix_factorization.SVD at 0x7f368602b2e8>"
            ]
          },
          "metadata": {
            "tags": []
          },
          "execution_count": 9
        }
      ]
    },
    {
      "cell_type": "code",
      "metadata": {
        "id": "xuEP8b2cvf7s",
        "colab_type": "code",
        "outputId": "84ab17b0-8922-4a7d-9eef-43c83a509ccc",
        "colab": {
          "base_uri": "https://localhost:8080/",
          "height": 85
        }
      },
      "source": [
        "print('Computing recommendations ..')\n",
        "predictions = algo.test(testSet)\n",
        "from RecommenderMetrics import RecommenderMetrics\n",
        "print('Evaluating accuracy of model ..')\n",
        "print('RMSE:', RecommenderMetrics.RMSE(predictions))\n",
        "print('MAE:', RecommenderMetrics.MAE(predictions))"
      ],
      "execution_count": 12,
      "outputs": [
        {
          "output_type": "stream",
          "text": [
            "Computing recommendations ..\n",
            "Evaluating accuracy of model ..\n",
            "RMSE: 0.9033701087151801\n",
            "MAE: 0.6977882196132263\n"
          ],
          "name": "stdout"
        }
      ]
    },
    {
      "cell_type": "code",
      "metadata": {
        "id": "NlEyhAjrcy2K",
        "colab_type": "code",
        "colab": {
          "base_uri": "https://localhost:8080/",
          "height": 238
        },
        "outputId": "7c9b735f-e61b-4cdf-c715-685ccc721c16"
      },
      "source": [
        "print('Evaluating Top-10 Recommendation ..')\n",
        "from surprise.model_selection import LeaveOneOut\n",
        "# Set aside on rating per user for testing\n",
        "LOOCV = LeaveOneOut(n_splits=1, random_state=1)\n",
        "\n",
        "for trainSet, testSet in LOOCV.split(data):\n",
        "  print('Computing recommmendation with leaveOneOut..')\n",
        "  # Traim model without left-out ratings\n",
        "  algo.fit(trainSet)\n",
        "  # Predicts ratings fro left-out ratings only\n",
        "  leftOutPredictions = algo.test(testSet)\n",
        "  # Build predictions fro all ratings not in the training set\n",
        "  print('Predict All Missing Ratings..')\n",
        "  bigTestSet = trainSet.build_anti_testset()\n",
        "  allPredictions = algo.test(bigTestSet)\n",
        "\n",
        "  print('Compte top-10 rating per user')\n",
        "  topNPredicted = RecommenderMetrics.GetTopN(allPredictions, n=10)\n",
        "  print('Hit Rate: ', RecommenderMetrics.HitRate(topNPredicted, leftOutPredictions))\n",
        "  # Break down hit rate by rating value\n",
        "  print(\"\\nrHR (Hit Rate by Rating value): \")\n",
        "  RecommenderMetrics.RatingHitRate(topNPredicted, leftOutPredictions)\n",
        "  print('cHR: Rating >= 4: ', RecommenderMetrics.CumulativeHitRate(topNPredicted, leftOutPredictions, 4.0))\n",
        "  print('ARHR: ', RecommenderMetrics.AverageReciprocalHitRank(topNPredicted, leftOutPredictions))\n"
      ],
      "execution_count": 17,
      "outputs": [
        {
          "output_type": "stream",
          "text": [
            "Evaluating Top-10 Recommendation ..\n",
            "Computing recommmendation with leaveOneOut..\n",
            "Predict All Missing Ratings..\n",
            "Compte top-10 rating per user\n",
            "Hit Rate:  0.029806259314456036\n",
            "\n",
            "rHR (Hit Rate by Rating value): \n",
            "3.5 0.017241379310344827\n",
            "4.0 0.0425531914893617\n",
            "4.5 0.020833333333333332\n",
            "5.0 0.06802721088435375\n",
            "cHR: Rating >= 4:  0.04960835509138381\n",
            "ARHR:  0.0111560570576964\n"
          ],
          "name": "stdout"
        }
      ]
    },
    {
      "cell_type": "code",
      "metadata": {
        "id": "z84X5mWOjjQn",
        "colab_type": "code",
        "colab": {
          "base_uri": "https://localhost:8080/",
          "height": 51
        },
        "outputId": "619cf39e-e6bb-427a-95d5-f4045ad70094"
      },
      "source": [
        "print('Computing complete recommendation, no hold outs...')\n",
        "algo.fit(fullTrainSet)"
      ],
      "execution_count": 21,
      "outputs": [
        {
          "output_type": "stream",
          "text": [
            "Computing complete recommendation, no hold outs...\n"
          ],
          "name": "stdout"
        },
        {
          "output_type": "execute_result",
          "data": {
            "text/plain": [
              "<surprise.prediction_algorithms.matrix_factorization.SVD at 0x7f368602b2e8>"
            ]
          },
          "metadata": {
            "tags": []
          },
          "execution_count": 21
        }
      ]
    },
    {
      "cell_type": "code",
      "metadata": {
        "id": "_EHWwopjkV7V",
        "colab_type": "code",
        "colab": {
          "base_uri": "https://localhost:8080/",
          "height": 34
        },
        "outputId": "7c463837-94f2-46c3-c2c9-6058f2f4859c"
      },
      "source": [
        "print('Test The Model...')\n",
        "bigTestSet = fullTrainSet.build_anti_testset()\n",
        "allPredictions = algo.test(bigTestSet)\n",
        "topNPredictions = RecommenderMetrics.GetTopN(allPredictions, n=10)"
      ],
      "execution_count": 22,
      "outputs": [
        {
          "output_type": "stream",
          "text": [
            "Test The Model...\n"
          ],
          "name": "stdout"
        }
      ]
    },
    {
      "cell_type": "code",
      "metadata": {
        "id": "-u3_oGSykpbH",
        "colab_type": "code",
        "colab": {
          "base_uri": "https://localhost:8080/",
          "height": 153
        },
        "outputId": "8a03cb76-0387-4d9b-d8f7-2537b8c661b0"
      },
      "source": [
        "# Print user coverage with a minimum predicted rating of 4.0:\n",
        "print(\"\\nUser coverage: \", RecommenderMetrics.UserCoverage(topNPredicted, fullTrainSet.n_users, ratingThreshold=4.0))\n",
        "\n",
        "# Measure diversity of recommendations:\n",
        "print(\"\\nDiversity: \", RecommenderMetrics.Diversity(topNPredicted, simsAlgo))\n",
        "\n",
        "# Measure novelty (average popularity rank of recommendations):\n",
        "print(\"\\nNovelty (average popularity rank): \", RecommenderMetrics.Novelty(topNPredicted, rankings))"
      ],
      "execution_count": 23,
      "outputs": [
        {
          "output_type": "stream",
          "text": [
            "\n",
            "User coverage:  0.9523099850968704\n",
            "Computing the pearson_baseline similarity matrix...\n",
            "Done computing similarity matrix.\n",
            "\n",
            "Diversity:  0.9685719430531259\n",
            "\n",
            "Novelty (average popularity rank):  508.73897360222986\n"
          ],
          "name": "stdout"
        }
      ]
    },
    {
      "cell_type": "code",
      "metadata": {
        "id": "NhzM2IySkwa-",
        "colab_type": "code",
        "colab": {
          "base_uri": "https://localhost:8080/",
          "height": 51
        },
        "outputId": "3b059c9c-73e4-42de-9291-2efebe121c2a"
      },
      "source": [
        "#exporting the model\n",
        "\n",
        "from surprise import dump\n",
        "import os\n",
        "\n",
        "print(\"exporting the model\")\n",
        "file_name = os.path.expanduser('./model.pkl')\n",
        "dump.dump(file_name, algo=algo)\n",
        "print(\"file dumped\")"
      ],
      "execution_count": 25,
      "outputs": [
        {
          "output_type": "stream",
          "text": [
            "exporting the model\n",
            "file dumped\n"
          ],
          "name": "stdout"
        }
      ]
    },
    {
      "cell_type": "code",
      "metadata": {
        "id": "tidSJX93n5nq",
        "colab_type": "code",
        "colab": {
          "base_uri": "https://localhost:8080/",
          "height": 34
        },
        "outputId": "15964c63-c0fd-4e9e-9a28-e96b8fffcaba"
      },
      "source": [
        "_, loaded_algo = dump.load(os.path.expanduser('model.pkl'))\n",
        "print(\"file loaded\")"
      ],
      "execution_count": 26,
      "outputs": [
        {
          "output_type": "stream",
          "text": [
            "file loaded\n"
          ],
          "name": "stdout"
        }
      ]
    },
    {
      "cell_type": "code",
      "metadata": {
        "id": "LYLqPfmMofLG",
        "colab_type": "code",
        "colab": {
          "base_uri": "https://localhost:8080/",
          "height": 54
        },
        "outputId": "1b32c494-1616-42d5-b651-6834ed54d261"
      },
      "source": [
        "trainset = data.build_full_trainset()\n",
        "predictions_loaded_algo = loaded_algo.test(trainset.build_testset())\n",
        "recs = RecommenderMetrics.GetTopN(predictions_loaded_algo,10)[11]\n",
        "response_list = {'source':{\"id\":\"SVD_model\"},'movieIds':[],'predictedRatings':[]}\n",
        "i = 0\n",
        "while (len(response_list['predictedRatings']) < 10 and i < len(recs)):\n",
        "    response = {\n",
        "            'movieId':recs[i][0],\n",
        "            'predicted rating':recs[i][1]\n",
        "    }\n",
        "    response_list['predictedRatings'].append(response)\n",
        "    response_list['movieIds'].append(recs[i][0])\n",
        "    i = i+1\n",
        "print(response_list)"
      ],
      "execution_count": 32,
      "outputs": [
        {
          "output_type": "stream",
          "text": [
            "{'source': {'id': 'SVD_model'}, 'movieIds': [923, 50, 296, 48516, 1201, 778, 79132, 26614, 97938, 80489], 'predictedRatings': [{'movieId': 923, 'predicted rating': 4.786690147626509}, {'movieId': 50, 'predicted rating': 4.663960836500775}, {'movieId': 296, 'predicted rating': 4.629207742358713}, {'movieId': 48516, 'predicted rating': 4.626710956183247}, {'movieId': 1201, 'predicted rating': 4.473962936131099}, {'movieId': 778, 'predicted rating': 4.4602680144326925}, {'movieId': 79132, 'predicted rating': 4.4484307062801545}, {'movieId': 26614, 'predicted rating': 4.438853917810938}, {'movieId': 97938, 'predicted rating': 4.428651822454953}, {'movieId': 80489, 'predicted rating': 4.383122923457444}]}\n"
          ],
          "name": "stdout"
        }
      ]
    }
  ]
}