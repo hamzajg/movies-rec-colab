{
  "nbformat": 4,
  "nbformat_minor": 0,
  "metadata": {
    "colab": {
      "name": "MoviesRec.ipynb",
      "provenance": [],
      "collapsed_sections": [],
      "toc_visible": true,
      "authorship_tag": "ABX9TyNgY1AUIkxc3NhdvRpzyo9+",
      "include_colab_link": true
    },
    "kernelspec": {
      "name": "python3",
      "display_name": "Python 3"
    }
  },
  "cells": [
    {
      "cell_type": "markdown",
      "metadata": {
        "id": "view-in-github",
        "colab_type": "text"
      },
      "source": [
        "<a href=\"https://colab.research.google.com/github/hamzajg/movies-rec-colab/blob/master/MoviesRec.ipynb\" target=\"_parent\"><img src=\"https://colab.research.google.com/assets/colab-badge.svg\" alt=\"Open In Colab\"/></a>"
      ]
    },
    {
      "cell_type": "code",
      "metadata": {
        "id": "8CRxPxJooh3j",
        "colab_type": "code",
        "colab": {}
      },
      "source": [
        "%load_ext autoreload\n",
        "%autoreload 2"
      ],
      "execution_count": 0,
      "outputs": []
    },
    {
      "cell_type": "code",
      "metadata": {
        "id": "UphNydjctNt4",
        "colab_type": "code",
        "colab": {}
      },
      "source": [
        "!git clone https://github.com/hamzajg/movies-rec-colab.git"
      ],
      "execution_count": 0,
      "outputs": []
    },
    {
      "cell_type": "code",
      "metadata": {
        "id": "3rEngU55njB-",
        "colab_type": "code",
        "colab": {
          "base_uri": "https://localhost:8080/",
          "height": 34
        },
        "outputId": "452d3127-3363-4783-ea72-77b3db49c668"
      },
      "source": [
        "%cd movies-rec-colab/"
      ],
      "execution_count": 82,
      "outputs": [
        {
          "output_type": "stream",
          "text": [
            "/content/movies-rec-colab\n"
          ],
          "name": "stdout"
        }
      ]
    },
    {
      "cell_type": "code",
      "metadata": {
        "id": "3KXEZScvl02K",
        "colab_type": "code",
        "colab": {
          "base_uri": "https://localhost:8080/",
          "height": 255
        },
        "outputId": "a2d4a3e6-99ff-48cf-e7ba-0a8d2ec38876"
      },
      "source": [
        "!git pull"
      ],
      "execution_count": 83,
      "outputs": [
        {
          "output_type": "stream",
          "text": [
            "remote: Enumerating objects: 12, done.\u001b[K\n",
            "remote: Counting objects:   8% (1/12)\u001b[K\rremote: Counting objects:  16% (2/12)\u001b[K\rremote: Counting objects:  25% (3/12)\u001b[K\rremote: Counting objects:  33% (4/12)\u001b[K\rremote: Counting objects:  41% (5/12)\u001b[K\rremote: Counting objects:  50% (6/12)\u001b[K\rremote: Counting objects:  58% (7/12)\u001b[K\rremote: Counting objects:  66% (8/12)\u001b[K\rremote: Counting objects:  75% (9/12)\u001b[K\rremote: Counting objects:  83% (10/12)\u001b[K\rremote: Counting objects:  91% (11/12)\u001b[K\rremote: Counting objects: 100% (12/12)\u001b[K\rremote: Counting objects: 100% (12/12), done.\u001b[K\n",
            "remote: Compressing objects:  11% (1/9)\u001b[K\rremote: Compressing objects:  22% (2/9)\u001b[K\rremote: Compressing objects:  33% (3/9)\u001b[K\rremote: Compressing objects:  44% (4/9)\u001b[K\rremote: Compressing objects:  55% (5/9)\u001b[K\rremote: Compressing objects:  66% (6/9)\u001b[K\rremote: Compressing objects:  77% (7/9)\u001b[K\rremote: Compressing objects:  88% (8/9)\u001b[K\rremote: Compressing objects: 100% (9/9)\u001b[K\rremote: Compressing objects: 100% (9/9), done.\u001b[K\n",
            "remote: Total 11 (delta 5), reused 5 (delta 2), pack-reused 0\n",
            "Unpacking objects:   9% (1/11)   \rUnpacking objects:  18% (2/11)   \rUnpacking objects:  27% (3/11)   \rUnpacking objects:  36% (4/11)   \rUnpacking objects:  45% (5/11)   \rUnpacking objects:  54% (6/11)   \rUnpacking objects:  63% (7/11)   \rUnpacking objects:  72% (8/11)   \rUnpacking objects:  81% (9/11)   \rUnpacking objects:  90% (10/11)   \rUnpacking objects: 100% (11/11)   \rUnpacking objects: 100% (11/11), done.\n",
            "From https://github.com/hamzajg/movies-rec-colab\n",
            "   4440613..0dc3bcb  master     -> origin/master\n",
            "Updating 4440613..0dc3bcb\n",
            "Fast-forward\n",
            " MoviesRec.ipynb       | 226 \u001b[32m++++++++++++++++++++++++++++++++++++++++++++++++++\u001b[m\n",
            " RecommenderMetrics.py | 154 \u001b[32m++++++++++++++++++++++++++++++++++\u001b[m\n",
            " 2 files changed, 380 insertions(+)\n",
            " create mode 100644 MoviesRec.ipynb\n",
            " create mode 100644 RecommenderMetrics.py\n"
          ],
          "name": "stdout"
        }
      ]
    },
    {
      "cell_type": "code",
      "metadata": {
        "id": "2THNTl_cnGE3",
        "colab_type": "code",
        "colab": {
          "base_uri": "https://localhost:8080/",
          "height": 34
        },
        "outputId": "61a13f80-a239-4550-c1b7-22b3d5070e31"
      },
      "source": [
        "%cd /content/"
      ],
      "execution_count": 81,
      "outputs": [
        {
          "output_type": "stream",
          "text": [
            "/content\n"
          ],
          "name": "stdout"
        }
      ]
    },
    {
      "cell_type": "code",
      "metadata": {
        "id": "qXNJqZpLkThb",
        "colab_type": "code",
        "outputId": "53ccb62c-606b-46f7-8469-a5cb55766cba",
        "colab": {
          "base_uri": "https://localhost:8080/",
          "height": 34
        }
      },
      "source": [
        "import sys\n",
        "sys.path.insert(0, 'movies-rec-colab')\n",
        "\n",
        "from MovieLens import MovieLens\n",
        "\n",
        "ml = MovieLens()\n",
        "print('Loading Movies Rating..')\n",
        "data = ml.loadMovieLensLatestSmall()"
      ],
      "execution_count": 67,
      "outputs": [
        {
          "output_type": "stream",
          "text": [
            "Loading Movies Rating..\n"
          ],
          "name": "stdout"
        }
      ]
    },
    {
      "cell_type": "code",
      "metadata": {
        "id": "t70Azr84sBTC",
        "colab_type": "code",
        "colab": {
          "base_uri": "https://localhost:8080/",
          "height": 34
        },
        "outputId": "79cf03bd-c283-4890-a2f7-9879b0c358c3"
      },
      "source": [
        "print('Computing movie popularity ranks so we can measure novelty later..')\n",
        "rankings = ml.getPopularityRanks()"
      ],
      "execution_count": 69,
      "outputs": [
        {
          "output_type": "stream",
          "text": [
            "Compute movie popularity ranks so we can measure novelty later..\n"
          ],
          "name": "stdout"
        }
      ]
    },
    {
      "cell_type": "code",
      "metadata": {
        "id": "rQbaC_YqsgbK",
        "colab_type": "code",
        "colab": {
          "base_uri": "https://localhost:8080/",
          "height": 102
        },
        "outputId": "79ff5b76-35fe-4a6f-f7f8-d57726fd131c"
      },
      "source": [
        "from surprise import KNNBaseline\n",
        "print('Computing item similarities so we can measure diversity later ...')\n",
        "fullTrainSet = data.build_full_trainset()\n",
        "sim_options = {'name': 'pearson_baseline', 'user_based': False}\n",
        "simsAlgo = KNNBaseline(sim_options=sim_options)\n",
        "simsAlgo.fit(fullTrainSet)"
      ],
      "execution_count": 74,
      "outputs": [
        {
          "output_type": "stream",
          "text": [
            "Computing item similarities so we can measure diversity later ...\n",
            "Estimating biases using als...\n",
            "Computing the pearson_baseline similarity matrix...\n",
            "Done computing similarity matrix.\n"
          ],
          "name": "stdout"
        },
        {
          "output_type": "execute_result",
          "data": {
            "text/plain": [
              "<surprise.prediction_algorithms.knns.KNNBaseline at 0x7f5c449c3908>"
            ]
          },
          "metadata": {
            "tags": []
          },
          "execution_count": 74
        }
      ]
    },
    {
      "cell_type": "code",
      "metadata": {
        "id": "MwUwOQjZul77",
        "colab_type": "code",
        "colab": {
          "base_uri": "https://localhost:8080/",
          "height": 51
        },
        "outputId": "d9c831c0-9d87-46d8-faf6-0c6b25218f8b"
      },
      "source": [
        "from surprise.model_selection import train_test_split\n",
        "from surprise import SVD\n",
        "print('Building recommendation models..')\n",
        "trainSet, testSet = train_test_split(data, test_size=.25, random_state=1)\n",
        "algo = SVD(random_state=10)\n",
        "algo.fit(trainSet)"
      ],
      "execution_count": 78,
      "outputs": [
        {
          "output_type": "stream",
          "text": [
            "Building recommendation models..\n"
          ],
          "name": "stdout"
        },
        {
          "output_type": "execute_result",
          "data": {
            "text/plain": [
              "<surprise.prediction_algorithms.matrix_factorization.SVD at 0x7f5c449b5860>"
            ]
          },
          "metadata": {
            "tags": []
          },
          "execution_count": 78
        }
      ]
    },
    {
      "cell_type": "code",
      "metadata": {
        "id": "xuEP8b2cvf7s",
        "colab_type": "code",
        "colab": {
          "base_uri": "https://localhost:8080/",
          "height": 85
        },
        "outputId": "d499af49-40ba-48b7-a0af-30b79b1c1b71"
      },
      "source": [
        "print('Computing recommendations ..')\n",
        "predictions = algo.test(testSet)\n",
        "from RecommenderMetrics import RecommenderMetrics\n",
        "print('Evaluating accuracy of model ..')\n",
        "print('RMSE:', RecommenderMetrics.RMSE(predictions))\n",
        "print('MAE:', RecommenderMetrics.MAE(predictions))"
      ],
      "execution_count": 86,
      "outputs": [
        {
          "output_type": "stream",
          "text": [
            "Computing recommendations ..\n",
            "Evaluating accuracy of model ..\n",
            "RMSE: 0.9033701087151801\n",
            "MAE: 0.6977882196132263\n"
          ],
          "name": "stdout"
        }
      ]
    }
  ]
}