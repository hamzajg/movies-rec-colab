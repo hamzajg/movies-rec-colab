{
  "nbformat": 4,
  "nbformat_minor": 0,
  "metadata": {
    "colab": {
      "name": "MoviesRec.ipynb",
      "provenance": [],
      "collapsed_sections": [],
      "toc_visible": true,
      "authorship_tag": "ABX9TyOJSShD+/uuHCGssuWUX6um",
      "include_colab_link": true
    },
    "kernelspec": {
      "name": "python3",
      "display_name": "Python 3"
    }
  },
  "cells": [
    {
      "cell_type": "markdown",
      "metadata": {
        "id": "view-in-github",
        "colab_type": "text"
      },
      "source": [
        "<a href=\"https://colab.research.google.com/github/hamzajg/movies-rec-colab/blob/master/MoviesRec.ipynb\" target=\"_parent\"><img src=\"https://colab.research.google.com/assets/colab-badge.svg\" alt=\"Open In Colab\"/></a>"
      ]
    },
    {
      "cell_type": "code",
      "metadata": {
        "id": "8CRxPxJooh3j",
        "colab_type": "code",
        "colab": {}
      },
      "source": [
        "%load_ext autoreload\n",
        "%autoreload 2"
      ],
      "execution_count": 0,
      "outputs": []
    },
    {
      "cell_type": "code",
      "metadata": {
        "id": "-Fq32qr5bBdz",
        "colab_type": "code",
        "colab": {
          "base_uri": "https://localhost:8080/",
          "height": 275
        },
        "outputId": "d175f1a9-0f3f-4afe-abd9-6a02b053e854"
      },
      "source": [
        "!pip install scikit-surprise"
      ],
      "execution_count": 6,
      "outputs": [
        {
          "output_type": "stream",
          "text": [
            "Collecting scikit-surprise\n",
            "\u001b[?25l  Downloading https://files.pythonhosted.org/packages/f5/da/b5700d96495fb4f092be497f02492768a3d96a3f4fa2ae7dea46d4081cfa/scikit-surprise-1.1.0.tar.gz (6.4MB)\n",
            "\u001b[K     |████████████████████████████████| 6.5MB 3.0MB/s \n",
            "\u001b[?25hRequirement already satisfied: joblib>=0.11 in /usr/local/lib/python3.6/dist-packages (from scikit-surprise) (0.14.1)\n",
            "Requirement already satisfied: numpy>=1.11.2 in /usr/local/lib/python3.6/dist-packages (from scikit-surprise) (1.17.5)\n",
            "Requirement already satisfied: scipy>=1.0.0 in /usr/local/lib/python3.6/dist-packages (from scikit-surprise) (1.4.1)\n",
            "Requirement already satisfied: six>=1.10.0 in /usr/local/lib/python3.6/dist-packages (from scikit-surprise) (1.12.0)\n",
            "Building wheels for collected packages: scikit-surprise\n",
            "  Building wheel for scikit-surprise (setup.py) ... \u001b[?25l\u001b[?25hdone\n",
            "  Created wheel for scikit-surprise: filename=scikit_surprise-1.1.0-cp36-cp36m-linux_x86_64.whl size=1678215 sha256=3e165243f6d8a63a32c2f7fdf3b18866afa7746c7bcf6ccd677480446520fe6e\n",
            "  Stored in directory: /root/.cache/pip/wheels/cc/fa/8c/16c93fccce688ae1bde7d979ff102f7bee980d9cfeb8641bcf\n",
            "Successfully built scikit-surprise\n",
            "Installing collected packages: scikit-surprise\n",
            "Successfully installed scikit-surprise-1.1.0\n"
          ],
          "name": "stdout"
        }
      ]
    },
    {
      "cell_type": "code",
      "metadata": {
        "id": "UphNydjctNt4",
        "colab_type": "code",
        "colab": {
          "base_uri": "https://localhost:8080/",
          "height": 119
        },
        "outputId": "80b6bf37-a399-4dff-c5a1-6b7c3b242e66"
      },
      "source": [
        "!git clone https://github.com/hamzajg/movies-rec-colab.git"
      ],
      "execution_count": 1,
      "outputs": [
        {
          "output_type": "stream",
          "text": [
            "Cloning into 'movies-rec-colab'...\n",
            "remote: Enumerating objects: 59, done.\u001b[K\n",
            "remote: Counting objects: 100% (59/59), done.\u001b[K\n",
            "remote: Compressing objects: 100% (49/49), done.\u001b[K\n",
            "remote: Total 59 (delta 22), reused 29 (delta 7), pack-reused 0\u001b[K\n",
            "Unpacking objects: 100% (59/59), done.\n"
          ],
          "name": "stdout"
        }
      ]
    },
    {
      "cell_type": "code",
      "metadata": {
        "id": "3rEngU55njB-",
        "colab_type": "code",
        "outputId": "452d3127-3363-4783-ea72-77b3db49c668",
        "colab": {
          "base_uri": "https://localhost:8080/",
          "height": 34
        }
      },
      "source": [
        "%cd movies-rec-colab/"
      ],
      "execution_count": 0,
      "outputs": [
        {
          "output_type": "stream",
          "text": [
            "/content/movies-rec-colab\n"
          ],
          "name": "stdout"
        }
      ]
    },
    {
      "cell_type": "code",
      "metadata": {
        "id": "3KXEZScvl02K",
        "colab_type": "code",
        "outputId": "a2d4a3e6-99ff-48cf-e7ba-0a8d2ec38876",
        "colab": {
          "base_uri": "https://localhost:8080/",
          "height": 255
        }
      },
      "source": [
        "!git pull"
      ],
      "execution_count": 0,
      "outputs": [
        {
          "output_type": "stream",
          "text": [
            "remote: Enumerating objects: 12, done.\u001b[K\n",
            "remote: Counting objects:   8% (1/12)\u001b[K\rremote: Counting objects:  16% (2/12)\u001b[K\rremote: Counting objects:  25% (3/12)\u001b[K\rremote: Counting objects:  33% (4/12)\u001b[K\rremote: Counting objects:  41% (5/12)\u001b[K\rremote: Counting objects:  50% (6/12)\u001b[K\rremote: Counting objects:  58% (7/12)\u001b[K\rremote: Counting objects:  66% (8/12)\u001b[K\rremote: Counting objects:  75% (9/12)\u001b[K\rremote: Counting objects:  83% (10/12)\u001b[K\rremote: Counting objects:  91% (11/12)\u001b[K\rremote: Counting objects: 100% (12/12)\u001b[K\rremote: Counting objects: 100% (12/12), done.\u001b[K\n",
            "remote: Compressing objects:  11% (1/9)\u001b[K\rremote: Compressing objects:  22% (2/9)\u001b[K\rremote: Compressing objects:  33% (3/9)\u001b[K\rremote: Compressing objects:  44% (4/9)\u001b[K\rremote: Compressing objects:  55% (5/9)\u001b[K\rremote: Compressing objects:  66% (6/9)\u001b[K\rremote: Compressing objects:  77% (7/9)\u001b[K\rremote: Compressing objects:  88% (8/9)\u001b[K\rremote: Compressing objects: 100% (9/9)\u001b[K\rremote: Compressing objects: 100% (9/9), done.\u001b[K\n",
            "remote: Total 11 (delta 5), reused 5 (delta 2), pack-reused 0\n",
            "Unpacking objects:   9% (1/11)   \rUnpacking objects:  18% (2/11)   \rUnpacking objects:  27% (3/11)   \rUnpacking objects:  36% (4/11)   \rUnpacking objects:  45% (5/11)   \rUnpacking objects:  54% (6/11)   \rUnpacking objects:  63% (7/11)   \rUnpacking objects:  72% (8/11)   \rUnpacking objects:  81% (9/11)   \rUnpacking objects:  90% (10/11)   \rUnpacking objects: 100% (11/11)   \rUnpacking objects: 100% (11/11), done.\n",
            "From https://github.com/hamzajg/movies-rec-colab\n",
            "   4440613..0dc3bcb  master     -> origin/master\n",
            "Updating 4440613..0dc3bcb\n",
            "Fast-forward\n",
            " MoviesRec.ipynb       | 226 \u001b[32m++++++++++++++++++++++++++++++++++++++++++++++++++\u001b[m\n",
            " RecommenderMetrics.py | 154 \u001b[32m++++++++++++++++++++++++++++++++++\u001b[m\n",
            " 2 files changed, 380 insertions(+)\n",
            " create mode 100644 MoviesRec.ipynb\n",
            " create mode 100644 RecommenderMetrics.py\n"
          ],
          "name": "stdout"
        }
      ]
    },
    {
      "cell_type": "code",
      "metadata": {
        "id": "2THNTl_cnGE3",
        "colab_type": "code",
        "outputId": "98969d1e-c5e1-449d-b32e-86135798737c",
        "colab": {
          "base_uri": "https://localhost:8080/",
          "height": 34
        }
      },
      "source": [
        "%cd /content/"
      ],
      "execution_count": 13,
      "outputs": [
        {
          "output_type": "stream",
          "text": [
            "/content\n"
          ],
          "name": "stdout"
        }
      ]
    },
    {
      "cell_type": "code",
      "metadata": {
        "id": "qXNJqZpLkThb",
        "colab_type": "code",
        "outputId": "8cc95494-8603-4ec2-d1ad-f90c2f6e73c0",
        "colab": {
          "base_uri": "https://localhost:8080/",
          "height": 34
        }
      },
      "source": [
        "import sys\n",
        "sys.path.insert(0, 'movies-rec-colab')\n",
        "\n",
        "from MovieLens import MovieLens\n",
        "\n",
        "ml = MovieLens()\n",
        "print('Loading Movies Rating..')\n",
        "data = ml.loadMovieLensLatestSmall()"
      ],
      "execution_count": 7,
      "outputs": [
        {
          "output_type": "stream",
          "text": [
            "Loading Movies Rating..\n"
          ],
          "name": "stdout"
        }
      ]
    },
    {
      "cell_type": "code",
      "metadata": {
        "id": "t70Azr84sBTC",
        "colab_type": "code",
        "outputId": "8b094375-e115-4097-bfc2-5b2fef6aa41e",
        "colab": {
          "base_uri": "https://localhost:8080/",
          "height": 34
        }
      },
      "source": [
        "print('Computing movie popularity ranks so we can measure novelty later..')\n",
        "rankings = ml.getPopularityRanks()"
      ],
      "execution_count": 8,
      "outputs": [
        {
          "output_type": "stream",
          "text": [
            "Computing movie popularity ranks so we can measure novelty later..\n"
          ],
          "name": "stdout"
        }
      ]
    },
    {
      "cell_type": "code",
      "metadata": {
        "id": "rQbaC_YqsgbK",
        "colab_type": "code",
        "outputId": "47338f3a-f52d-46a5-92cb-c5957f82b2f7",
        "colab": {
          "base_uri": "https://localhost:8080/",
          "height": 102
        }
      },
      "source": [
        "from surprise import KNNBaseline\n",
        "print('Computing item similarities so we can measure diversity later ...')\n",
        "fullTrainSet = data.build_full_trainset()\n",
        "sim_options = {'name': 'pearson_baseline', 'user_based': False}\n",
        "simsAlgo = KNNBaseline(sim_options=sim_options)\n",
        "simsAlgo.fit(fullTrainSet)"
      ],
      "execution_count": 9,
      "outputs": [
        {
          "output_type": "stream",
          "text": [
            "Computing item similarities so we can measure diversity later ...\n",
            "Estimating biases using als...\n",
            "Computing the pearson_baseline similarity matrix...\n",
            "Done computing similarity matrix.\n"
          ],
          "name": "stdout"
        },
        {
          "output_type": "execute_result",
          "data": {
            "text/plain": [
              "<surprise.prediction_algorithms.knns.KNNBaseline at 0x7faf928b06d8>"
            ]
          },
          "metadata": {
            "tags": []
          },
          "execution_count": 9
        }
      ]
    },
    {
      "cell_type": "code",
      "metadata": {
        "id": "MwUwOQjZul77",
        "colab_type": "code",
        "outputId": "98905a11-87c7-453e-a197-f719708540f5",
        "colab": {
          "base_uri": "https://localhost:8080/",
          "height": 51
        }
      },
      "source": [
        "from surprise.model_selection import train_test_split\n",
        "from surprise import SVD\n",
        "print('Building recommendation models..')\n",
        "trainSet, testSet = train_test_split(data, test_size=.25, random_state=1)\n",
        "algo = SVD(random_state=10)\n",
        "algo.fit(trainSet)"
      ],
      "execution_count": 10,
      "outputs": [
        {
          "output_type": "stream",
          "text": [
            "Building recommendation models..\n"
          ],
          "name": "stdout"
        },
        {
          "output_type": "execute_result",
          "data": {
            "text/plain": [
              "<surprise.prediction_algorithms.matrix_factorization.SVD at 0x7faf94869cc0>"
            ]
          },
          "metadata": {
            "tags": []
          },
          "execution_count": 10
        }
      ]
    },
    {
      "cell_type": "code",
      "metadata": {
        "id": "xuEP8b2cvf7s",
        "colab_type": "code",
        "outputId": "58991b49-acc7-4a5e-e679-2f50d2d1e8ac",
        "colab": {
          "base_uri": "https://localhost:8080/",
          "height": 85
        }
      },
      "source": [
        "print('Computing recommendations ..')\n",
        "predictions = algo.test(testSet)\n",
        "from RecommenderMetrics import RecommenderMetrics\n",
        "print('Evaluating accuracy of model ..')\n",
        "print('RMSE:', RecommenderMetrics.RMSE(predictions))\n",
        "print('MAE:', RecommenderMetrics.MAE(predictions))"
      ],
      "execution_count": 14,
      "outputs": [
        {
          "output_type": "stream",
          "text": [
            "Computing recommendations ..\n",
            "Evaluating accuracy of model ..\n",
            "RMSE: 0.9033701087151801\n",
            "MAE: 0.6977882196132263\n"
          ],
          "name": "stdout"
        }
      ]
    },
    {
      "cell_type": "code",
      "metadata": {
        "id": "NlEyhAjrcy2K",
        "colab_type": "code",
        "colab": {
          "base_uri": "https://localhost:8080/",
          "height": 68
        },
        "outputId": "b6ecff19-ead7-44ca-c6e7-31d7979cc6cf"
      },
      "source": [
        "print('Evaluating Top-10 Recommendation ..')\n",
        "from surprise.model_selection import LeaveOneOut\n",
        "# Set aside on rating per user for testing\n",
        "LOOCV = LeaveOneOut(n_splits=1, random_state=1)\n",
        "\n",
        "for trainSet, testSet in LOOCV.split(data):\n",
        "  print('Computing recommmendation with leaveOneOut..')\n",
        "  # Traim model without left-out ratings\n",
        "  algo.fit(trainSet)\n",
        "  # Predicts ratings fro left-out ratings only\n",
        "  leftOutPredictions = algo.test(testSet)\n",
        "  # Build predictions fro all ratings not in the training set\n",
        "  print('Predict All Missing Ratings..')\n",
        "  bigTestSet = trainSet.build_anti_testset()\n",
        "  allPredictions = algo.test(bigTestSet)\n"
      ],
      "execution_count": 22,
      "outputs": [
        {
          "output_type": "stream",
          "text": [
            "Evaluating Top-10 Recommendation ..\n",
            "Computing recommmendation with leaveOneOut..\n",
            "Predict All Missing Ratings..\n"
          ],
          "name": "stdout"
        }
      ]
    }
  ]
}